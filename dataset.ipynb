{
  "nbformat": 4,
  "nbformat_minor": 0,
  "metadata": {
    "colab": {
      "provenance": [],
      "authorship_tag": "ABX9TyMtDW14oN4GATKcwDI0PP78",
      "include_colab_link": true
    },
    "kernelspec": {
      "name": "python3",
      "display_name": "Python 3"
    },
    "language_info": {
      "name": "python"
    }
  },
  "cells": [
    {
      "cell_type": "markdown",
      "metadata": {
        "id": "view-in-github",
        "colab_type": "text"
      },
      "source": [
        "<a href=\"https://colab.research.google.com/github/Geo-Gera/vo_HW/blob/main/dataset.ipynb\" target=\"_parent\"><img src=\"https://colab.research.google.com/assets/colab-badge.svg\" alt=\"Open In Colab\"/></a>"
      ]
    },
    {
      "cell_type": "code",
      "execution_count": null,
      "metadata": {
        "id": "Z0eFBbz3BaJg"
      },
      "outputs": [],
      "source": [
        "import json\n",
        "import random\n",
        "\n",
        "# Функция генерации примеров сложения для тренировочного датасета\n",
        "def generate_training_dataset(num_samples=10000, max_digits=10):\n",
        "    dataset = []\n",
        "    for _ in range(num_samples):\n",
        "        num1 = random.randint(1, 10**max_digits - 1)\n",
        "        num2 = random.randint(1, 10**max_digits - 1)\n",
        "        question = f\"{num1} + {num2}\"\n",
        "        answer = str(num1 + num2)\n",
        "        dataset.append({\"input_text\": question, \"output_text\": answer})\n",
        "\n",
        "    # Сохранение датасета в JSON формате\n",
        "    with open(\"training_dataset.json\", \"w\") as f:\n",
        "        json.dump(dataset, f)\n",
        "    print(\"Training dataset saved as 'training_dataset.json'.\")\n",
        "\n",
        "# Генерация тренировочного датасета\n",
        "generate_training_dataset(num_samples=10000, max_digits=10)\n"
      ]
    }
  ]
}